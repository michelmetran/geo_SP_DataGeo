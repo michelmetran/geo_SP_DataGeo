{
 "cells": [
  {
   "cell_type": "markdown",
   "metadata": {
    "tags": [
     "yaml"
    ]
   },
   "source": [
    "---\n",
    "layout: post\n",
    "title: Folium\n",
    "subtitle: Exercícios e Referências\n",
    "tags: [python, pycharm, jupyter, package, folium]\n",
    "image: /img/posts/folium_icon.png\n",
    "bigimg: /img/posts/folium_big.png\n",
    "gh-repo: michelmetran/package_folium\n",
    "gh-badge: [follow, star, watch, fork]\n",
    "comments: true\n",
    "\n",
    "---"
   ]
  },
  {
   "cell_type": "markdown",
   "metadata": {
    "tags": [
     "header"
    ]
   },
   "source": [
    "# Get Data"
   ]
  },
  {
   "cell_type": "markdown",
   "metadata": {},
   "source": [
    "# *Imports* e Funções"
   ]
  },
  {
   "cell_type": "code",
   "execution_count": null,
   "metadata": {},
   "outputs": [],
   "source": [
    "import os\n",
    "import shutil\n",
    "import zipfile\n",
    "import requests\n",
    "import geopandas as gpd\n",
    "from datetime import date\n",
    "from bs4 import BeautifulSoup"
   ]
  },
  {
   "cell_type": "code",
   "execution_count": null,
   "metadata": {},
   "outputs": [],
   "source": [
    "[os.makedirs(i, exist_ok=True) for i in ['data/brutos', 'docs']]"
   ]
  },
  {
   "cell_type": "markdown",
   "metadata": {},
   "source": [
    "Função para fazer *download* usando o *request*. Ainda, a função pega o nome do arquivo a partir do *Content Disposition*. Usei a função do *post* [Downloading Files from URLs in Python](https://www.codementor.io/@aviaryan/downloading-files-from-urls-in-python-77q3bs0un)."
   ]
  },
  {
   "cell_type": "code",
   "execution_count": null,
   "metadata": {},
   "outputs": [],
   "source": [
    "import requests\n",
    "import re\n",
    "\n",
    "def get_filename_from_cd(cd):\n",
    "    \"\"\"\n",
    "    Get filename from content-disposition\n",
    "    \"\"\"\n",
    "    if not cd:\n",
    "        return None\n",
    "    fname = re.findall('filename=(.+)', cd)\n",
    "    if len(fname) == 0:\n",
    "        return None\n",
    "    return fname[0]"
   ]
  },
  {
   "cell_type": "markdown",
   "metadata": {},
   "source": [
    "# Dados Espaciais"
   ]
  },
  {
   "cell_type": "markdown",
   "metadata": {},
   "source": [
    "## Limite Municipal SP (IGC)"
   ]
  },
  {
   "cell_type": "code",
   "execution_count": null,
   "metadata": {},
   "outputs": [],
   "source": [
    "# Metadados\n",
    "url = 'http://datageo.ambiente.sp.gov.br/geoportal/catalog/search/resource/details.page?uuid='\n",
    "id_metadados = '{74040682-561A-40B8-BB2F-E188B58088C1}'\n",
    "\n",
    "print(url+id_metadados)"
   ]
  },
  {
   "cell_type": "code",
   "execution_count": null,
   "metadata": {},
   "outputs": [],
   "source": [
    "# Abre a página dos metadados\n",
    "page = requests.get(url+id_metadados)\n",
    "print('Resposta da página foi {}'.format(page))\n",
    "\n",
    "# Parser HTML\n",
    "soup = BeautifulSoup(page.content, 'html.parser')\n",
    "soup = soup.find_all('a', href=True)\n",
    "\n",
    "# Procura Shapefile\n",
    "for i in soup:\n",
    "    text = i.text.split(' ')\n",
    "    #print(text)\n",
    "    for j in text:\n",
    "        #print(j)\n",
    "        if j in 'Shapefile':\n",
    "            print('> Encontrei o shapefile')\n",
    "            url = i['href']\n",
    "            print('Link: {}'.format(url))"
   ]
  },
  {
   "cell_type": "code",
   "execution_count": null,
   "metadata": {},
   "outputs": [],
   "source": [
    "# Download file in data/brutos\n",
    "r = requests.get(url, allow_redirects=True)\n",
    "filename = get_filename_from_cd(r.headers.get('content-disposition'))\n",
    "open(os.path.join('data', 'brutos', filename), 'wb').write(r.content)"
   ]
  },
  {
   "cell_type": "code",
   "execution_count": null,
   "metadata": {},
   "outputs": [],
   "source": [
    "# Unzip\n",
    "file = os.path.join('data', 'brutos', filename)\n",
    "temp = os.path.join(os.path.dirname(file), 'temp')\n",
    "os.makedirs(temp, exist_ok=True)\n",
    "\n",
    "with zipfile.ZipFile(file, 'r') as zip_ref:\n",
    "    zip_ref.extractall(temp)"
   ]
  },
  {
   "cell_type": "code",
   "execution_count": null,
   "metadata": {},
   "outputs": [],
   "source": [
    "# Lista Arquivos\n",
    "os.listdir(temp)"
   ]
  },
  {
   "cell_type": "code",
   "execution_count": null,
   "metadata": {},
   "outputs": [],
   "source": [
    "# Read shapefile\n",
    "gdf = gpd.read_file(os.path.join(temp, 'LimiteMunicipalPolygon.shp'))\n",
    "display(gdf.head(5))\n",
    "gdf.plot()"
   ]
  },
  {
   "cell_type": "code",
   "execution_count": null,
   "metadata": {},
   "outputs": [],
   "source": [
    "# Renomeia Colunas\n",
    "gdf = gdf.rename(columns={'Cod_ibge':'ID_IBGE',\n",
    "                          'Nome':'Nome_Municipio',\n",
    "                          'Rotulo':'Rotulo_Municipio'})\n",
    "\n",
    "# Deleta Colunas\n",
    "gdf = gdf.drop(['Cod_Cetesb', 'UGRHI', 'Nome_ugrhi'], axis=1)\n",
    "\n",
    "print(gdf.dtypes)\n",
    "display(gdf.head(5))"
   ]
  },
  {
   "cell_type": "code",
   "execution_count": null,
   "metadata": {},
   "outputs": [],
   "source": [
    "# Reprojeta\n",
    "print(gdf.crs)\n",
    "gdf = gdf.to_crs(epsg=4326)\n",
    "print(gdf.crs)\n",
    "gdf.plot()"
   ]
  },
  {
   "cell_type": "code",
   "execution_count": null,
   "metadata": {},
   "outputs": [],
   "source": [
    "# Salva\n",
    "gdf.to_file(os.path.join('data', 'LimiteMunicipal.geojson'), driver='GeoJSON', encoding='utf-8')\n",
    "gdf.to_file(os.path.join('data', 'LimiteMunicipal' + '.gpkg'), layer='Limite', driver=\"GPKG\")"
   ]
  },
  {
   "cell_type": "code",
   "execution_count": null,
   "metadata": {},
   "outputs": [],
   "source": [
    "# Excluí pasta temporária\n",
    "shutil.rmtree(temp)"
   ]
  },
  {
   "cell_type": "markdown",
   "metadata": {},
   "source": [
    "## Sedes Municipais"
   ]
  },
  {
   "cell_type": "code",
   "execution_count": null,
   "metadata": {},
   "outputs": [],
   "source": [
    "# Metadados\n",
    "url = 'http://datageo.ambiente.sp.gov.br/geoportal/catalog/search/resource/details.page?uuid='\n",
    "id_metadados = '{64BF344A-3AD0-410A-A3AA-DFE01C4E9BBB}'\n",
    "\n",
    "print(url+id_metadados)"
   ]
  },
  {
   "cell_type": "code",
   "execution_count": null,
   "metadata": {},
   "outputs": [],
   "source": [
    "# Abre a página dos metadados\n",
    "page = requests.get(url+id_metadados)\n",
    "print('Resposta da página foi {}'.format(page))\n",
    "\n",
    "# Parser HTML\n",
    "soup = BeautifulSoup(page.content, 'html.parser')\n",
    "soup = soup.find_all('a', href=True)\n",
    "\n",
    "# Procura Shapefile\n",
    "for i in soup:\n",
    "    text = i.text.split(' ')\n",
    "    #print(text)\n",
    "    for j in text:\n",
    "        #print(j)\n",
    "        if j in 'Shapefile':\n",
    "            print('> Encontrei o shapefile')\n",
    "            url = i['href']\n",
    "            print('Link: {}'.format(url))"
   ]
  },
  {
   "cell_type": "code",
   "execution_count": null,
   "metadata": {},
   "outputs": [],
   "source": [
    "# Download file in data/brutos\n",
    "r = requests.get(url, allow_redirects=True)\n",
    "filename = get_filename_from_cd(r.headers.get('content-disposition'))\n",
    "open(os.path.join('data', 'brutos', filename), 'wb').write(r.content)"
   ]
  },
  {
   "cell_type": "code",
   "execution_count": null,
   "metadata": {},
   "outputs": [],
   "source": [
    "# Unzip\n",
    "file = os.path.join('data', 'brutos', filename)\n",
    "temp = os.path.join(os.path.dirname(file), 'temp')\n",
    "os.makedirs(temp, exist_ok=True)\n",
    "\n",
    "with zipfile.ZipFile(file, 'r') as zip_ref:\n",
    "    zip_ref.extractall(temp)"
   ]
  },
  {
   "cell_type": "code",
   "execution_count": null,
   "metadata": {},
   "outputs": [],
   "source": [
    "# Lista Arquivos\n",
    "os.listdir(temp)"
   ]
  },
  {
   "cell_type": "code",
   "execution_count": null,
   "metadata": {},
   "outputs": [],
   "source": [
    "# Read shapefile\n",
    "gdf = gpd.read_file(os.path.join(temp, 'SedesMunicipaisPoint.shp'))\n",
    "display(gdf.head(5))\n",
    "gdf.plot()"
   ]
  },
  {
   "cell_type": "code",
   "execution_count": null,
   "metadata": {},
   "outputs": [],
   "source": [
    "# Renomeia Colunas\n",
    "gdf = gdf.rename(columns={'Nome':'Nome_Municipio'})\n",
    "\n",
    "# Deleta Colunas\n",
    "gdf = gdf.drop(['Codigo_CET'], axis=1)\n",
    "\n",
    "print(gdf.dtypes)\n",
    "display(gdf.head(5))"
   ]
  },
  {
   "cell_type": "code",
   "execution_count": null,
   "metadata": {},
   "outputs": [],
   "source": [
    "# Reprojeta\n",
    "print(gdf.crs)\n",
    "gdf = gdf.to_crs(epsg=4326)\n",
    "print(gdf.crs)\n",
    "gdf.plot()"
   ]
  },
  {
   "cell_type": "code",
   "execution_count": null,
   "metadata": {},
   "outputs": [],
   "source": [
    "# Salva\n",
    "gdf.to_file(os.path.join('data', 'SedesMunicipais.geojson'), driver='GeoJSON', encoding='utf-8')\n",
    "gdf.to_file(os.path.join('data', 'SedesMunicipais' + '.gpkg'), layer='Sedes', driver=\"GPKG\")"
   ]
  },
  {
   "cell_type": "code",
   "execution_count": null,
   "metadata": {},
   "outputs": [],
   "source": [
    "# Excluí pasta temporária\n",
    "shutil.rmtree(temp)"
   ]
  },
  {
   "cell_type": "markdown",
   "metadata": {
    "tags": [
     "remove_cell"
    ]
   },
   "source": [
    "___\n",
    "\n",
    "# Encerramento"
   ]
  },
  {
   "cell_type": "markdown",
   "metadata": {
    "tags": [
     "remove_cell"
    ]
   },
   "source": [
    "## *Export to*  docs"
   ]
  },
  {
   "cell_type": "code",
   "execution_count": null,
   "metadata": {
    "tags": [
     "remove_cell"
    ]
   },
   "outputs": [],
   "source": [
    "# Input\n",
    "inp = 'getdata_datageo.ipynb'\n",
    "\n",
    "# Output\n",
    "out = os.path.join('docs', inp.split('.')[0])\n",
    "\n",
    "# Extension to export ('html', 'html_embed', 'markdown', 'latex', 'pdf', 'python')\n",
    "ext = 'html_embed'\n",
    "\n",
    "# Remove cells with tag\n",
    "tag = (\"['\" + '\"remove_cell\"' + \", \" + '\"yaml\"' + \"']\")\n",
    "!echo $tag"
   ]
  },
  {
   "cell_type": "code",
   "execution_count": null,
   "metadata": {
    "tags": [
     "remove_cell"
    ]
   },
   "outputs": [],
   "source": [
    "!jupyter-nbconvert $inp\\\n",
    "--to $ext\\\n",
    "--TagRemovePreprocessor.enabled=True\\\n",
    "--TagRemovePreprocessor.remove_cell_tags=$tag\\\n",
    "--ClearOutputPreprocessor.enabled=True\\\n",
    "--TemplateExporter.exclude_markdown=False\\\n",
    "--TemplateExporter.exclude_code_cell=False\\\n",
    "--TemplateExporter.exclude_output=True\\\n",
    "--TemplateExporter.exclude_raw=False\\\n",
    "--TemplateExporter.exclude_input_prompt=True\\\n",
    "--TemplateExporter.exclude_output_prompt=True\\\n",
    "--output $out"
   ]
  },
  {
   "cell_type": "markdown",
   "metadata": {
    "tags": [
     "remove_cell"
    ]
   },
   "source": [
    "## *Export to* michelmetran.github.io"
   ]
  },
  {
   "cell_type": "code",
   "execution_count": null,
   "metadata": {
    "tags": [
     "remove_cell"
    ]
   },
   "outputs": [],
   "source": [
    "# Parameters\n",
    "day = date.today().strftime('%Y-%m-%d')\n",
    "day = '2020-06-11'\n",
    "\n",
    "# Output\n",
    "out = os.path.join('../michelmetran.github.io/_posts', day + '-' + inp.split('.')[0])\n",
    "\n",
    "# Extension to export ('html', 'markdown', 'latex', 'pdf', 'python')\n",
    "ext = 'markdown'\n",
    "\n",
    "# Remove cells with tag\n",
    "tag = (\"['\" + '\"remove_cell\"' + \", \" + '\"header\"' + \"']\")\n",
    "!echo $tag"
   ]
  },
  {
   "cell_type": "code",
   "execution_count": null,
   "metadata": {
    "tags": [
     "remove_cell"
    ]
   },
   "outputs": [],
   "source": [
    "!jupyter-nbconvert $inp\\\n",
    "--to $ext\\\n",
    "--TagRemovePreprocessor.enabled=True\\\n",
    "--TagRemovePreprocessor.remove_cell_tags=$tag\\\n",
    "--ClearOutputPreprocessor.enabled=True\\\n",
    "--TemplateExporter.exclude_markdown=False\\\n",
    "--TemplateExporter.exclude_code_cell=False\\\n",
    "--TemplateExporter.exclude_output=True\\\n",
    "--TemplateExporter.exclude_raw=False\\\n",
    "--TemplateExporter.exclude_input_prompt=True\\\n",
    "--TemplateExporter.exclude_output_prompt=True\\\n",
    "--output $out"
   ]
  },
  {
   "cell_type": "markdown",
   "metadata": {
    "tags": [
     "remove_cell"
    ]
   },
   "source": [
    "## *Requeriments*"
   ]
  },
  {
   "cell_type": "code",
   "execution_count": null,
   "metadata": {
    "tags": [
     "remove_cell"
    ]
   },
   "outputs": [],
   "source": [
    "# Output\n",
    "out = os.path.join('docs', inp.split('.')[0])\n",
    "!jupyter-nbconvert $inp --to python --output $out\n",
    "\n",
    "print('-'*80)\n",
    "!pipreqs 'docs' --force --debug --print\n",
    "\n",
    "print('-'*80)\n",
    "os.remove(out+'.py')\n",
    "print('Arquivo {} deletado com sucesso!'.format(out+'.py'))"
   ]
  },
  {
   "cell_type": "markdown",
   "metadata": {
    "tags": [
     "remove_cell"
    ]
   },
   "source": [
    "## *GitHub* this project"
   ]
  },
  {
   "cell_type": "code",
   "execution_count": null,
   "metadata": {
    "tags": [
     "remove_cell"
    ]
   },
   "outputs": [],
   "source": [
    "!nbstripout --install --attributes .gitattributes\n",
    "!git status\n",
    "!git add .\n",
    "!git commit -m 'Arrumações Gerais'\n",
    "!git push origin master"
   ]
  },
  {
   "cell_type": "markdown",
   "metadata": {
    "tags": [
     "remove_cell"
    ]
   },
   "source": [
    "## *GitHub* michelmetran.github.io"
   ]
  },
  {
   "cell_type": "code",
   "execution_count": null,
   "metadata": {
    "tags": [
     "remove_cell"
    ]
   },
   "outputs": [],
   "source": [
    "print('-'*80)\n",
    "path_cwd = os.getcwd()\n",
    "print('O diretório atual é {}'.format(path_cwd))\n",
    "path_new = '../michelmetran.github.io'\n",
    "os.chdir(path_new)\n",
    "print('Mudei para o diretório atual é {}'.format(path_new))\n",
    "\n",
    "print('-'*80)\n",
    "!nbstripout --install --attributes .gitattributes\n",
    "!git status\n",
    "!git add .\n",
    "!git commit -m 'Arrumações Gerais'\n",
    "!git push origin master\n",
    "\n",
    "print('-'*80)\n",
    "os.chdir(path_cwd)\n",
    "print('Retornei para o diretório {}'.format(path_cwd))\n",
    "print('-'*80)"
   ]
  },
  {
   "cell_type": "code",
   "execution_count": null,
   "metadata": {
    "tags": [
     "remove_cell"
    ]
   },
   "outputs": [],
   "source": []
  }
 ],
 "metadata": {
  "celltoolbar": "Tags",
  "kernelspec": {
   "display_name": "Python 3.8.2 64-bit ('pablocarreira-py38': conda)",
   "language": "python",
   "name": "python38264bitpablocarreirapy38conda1624f2f09c5f4385932981bc1d88933d"
  },
  "language_info": {
   "codemirror_mode": {
    "name": "ipython",
    "version": 3
   },
   "file_extension": ".py",
   "mimetype": "text/x-python",
   "name": "python",
   "nbconvert_exporter": "python",
   "pygments_lexer": "ipython3",
   "version": "3.8.3"
  },
  "toc": {
   "base_numbering": 1,
   "nav_menu": {},
   "number_sections": true,
   "sideBar": true,
   "skip_h1_title": false,
   "title_cell": "Table of Contents",
   "title_sidebar": "Contents",
   "toc_cell": false,
   "toc_position": {
    "height": "calc(100% - 180px)",
    "left": "10px",
    "top": "150px",
    "width": "373.6px"
   },
   "toc_section_display": true,
   "toc_window_display": true
  }
 },
 "nbformat": 4,
 "nbformat_minor": 4
}
